{
 "cells": [
  {
   "cell_type": "markdown",
   "metadata": {},
   "source": [
    "## Aprendizado Não Supervisionado - Agrupamento de Dados\n",
    "#### Prof. Thomas da Silva Paula"
   ]
  },
  {
   "cell_type": "markdown",
   "metadata": {},
   "source": [
    "### DBSCAN - Demo 4\n",
    "\n",
    "* Exemplo de DBSCAN para detecção de outliers em base de dados real\n",
    "* Base de dados do FIFA19 - https://www.kaggle.com/karangadiya/fifa19"
   ]
  },
  {
   "cell_type": "code",
   "execution_count": 1,
   "metadata": {},
   "outputs": [],
   "source": [
    "import numpy as np\n",
    "import pandas as pd\n",
    "import seaborn as sns\n",
    "import matplotlib.pyplot as plt\n",
    "\n",
    "from sklearn.cluster import DBSCAN\n",
    "\n",
    "%matplotlib inline\n",
    "\n",
    "sns.set(style='darkgrid', context='talk', rc={'figure.figsize': (14, 8)})\n",
    "\n",
    "pd.set_option('display.max_columns', None)"
   ]
  },
  {
   "cell_type": "markdown",
   "metadata": {},
   "source": [
    "## Carregar base de dados"
   ]
  },
  {
   "cell_type": "code",
   "execution_count": 2,
   "metadata": {},
   "outputs": [
    {
     "data": {
      "text/html": [
       "<div>\n",
       "<style scoped>\n",
       "    .dataframe tbody tr th:only-of-type {\n",
       "        vertical-align: middle;\n",
       "    }\n",
       "\n",
       "    .dataframe tbody tr th {\n",
       "        vertical-align: top;\n",
       "    }\n",
       "\n",
       "    .dataframe thead th {\n",
       "        text-align: right;\n",
       "    }\n",
       "</style>\n",
       "<table border=\"1\" class=\"dataframe\">\n",
       "  <thead>\n",
       "    <tr style=\"text-align: right;\">\n",
       "      <th></th>\n",
       "      <th>Name</th>\n",
       "      <th>Height</th>\n",
       "      <th>Weight</th>\n",
       "    </tr>\n",
       "    <tr>\n",
       "      <th>ID</th>\n",
       "      <th></th>\n",
       "      <th></th>\n",
       "      <th></th>\n",
       "    </tr>\n",
       "  </thead>\n",
       "  <tbody>\n",
       "    <tr>\n",
       "      <th>158023</th>\n",
       "      <td>L. Messi</td>\n",
       "      <td>5'7</td>\n",
       "      <td>159lbs</td>\n",
       "    </tr>\n",
       "    <tr>\n",
       "      <th>20801</th>\n",
       "      <td>Cristiano Ronaldo</td>\n",
       "      <td>6'2</td>\n",
       "      <td>183lbs</td>\n",
       "    </tr>\n",
       "    <tr>\n",
       "      <th>190871</th>\n",
       "      <td>Neymar Jr</td>\n",
       "      <td>5'9</td>\n",
       "      <td>150lbs</td>\n",
       "    </tr>\n",
       "    <tr>\n",
       "      <th>193080</th>\n",
       "      <td>De Gea</td>\n",
       "      <td>6'4</td>\n",
       "      <td>168lbs</td>\n",
       "    </tr>\n",
       "    <tr>\n",
       "      <th>192985</th>\n",
       "      <td>K. De Bruyne</td>\n",
       "      <td>5'11</td>\n",
       "      <td>154lbs</td>\n",
       "    </tr>\n",
       "  </tbody>\n",
       "</table>\n",
       "</div>"
      ],
      "text/plain": [
       "                     Name Height  Weight\n",
       "ID                                      \n",
       "158023           L. Messi    5'7  159lbs\n",
       "20801   Cristiano Ronaldo    6'2  183lbs\n",
       "190871          Neymar Jr    5'9  150lbs\n",
       "193080             De Gea    6'4  168lbs\n",
       "192985       K. De Bruyne   5'11  154lbs"
      ]
     },
     "execution_count": 2,
     "metadata": {},
     "output_type": "execute_result"
    }
   ],
   "source": [
    "df_all = pd.read_csv('../datasets/fifa19/data.csv', index_col=0, usecols=['ID', 'Name', 'Height', 'Weight'])\n",
    "df_all.head()"
   ]
  },
  {
   "cell_type": "code",
   "execution_count": 3,
   "metadata": {},
   "outputs": [
    {
     "name": "stdout",
     "output_type": "stream",
     "text": [
      "18207\n"
     ]
    }
   ],
   "source": [
    "print(len(df_all))"
   ]
  },
  {
   "cell_type": "markdown",
   "metadata": {},
   "source": [
    "Remover colunas com valores nulos"
   ]
  },
  {
   "cell_type": "code",
   "execution_count": 4,
   "metadata": {},
   "outputs": [
    {
     "data": {
      "text/plain": [
       "Name       0\n",
       "Height    48\n",
       "Weight    48\n",
       "dtype: int64"
      ]
     },
     "execution_count": 4,
     "metadata": {},
     "output_type": "execute_result"
    }
   ],
   "source": [
    "df_all.isna().sum()"
   ]
  },
  {
   "cell_type": "code",
   "execution_count": 5,
   "metadata": {},
   "outputs": [
    {
     "name": "stdout",
     "output_type": "stream",
     "text": [
      "18159\n"
     ]
    }
   ],
   "source": [
    "df_all.dropna(inplace=True)\n",
    "print(len(df_all))"
   ]
  },
  {
   "cell_type": "markdown",
   "metadata": {},
   "source": [
    "### Removendo algumas instâncias\n",
    "Iremos aplicar o algoritmo DBSCAN num subset dos dados"
   ]
  },
  {
   "cell_type": "code",
   "execution_count": 6,
   "metadata": {},
   "outputs": [
    {
     "data": {
      "text/html": [
       "<div>\n",
       "<style scoped>\n",
       "    .dataframe tbody tr th:only-of-type {\n",
       "        vertical-align: middle;\n",
       "    }\n",
       "\n",
       "    .dataframe tbody tr th {\n",
       "        vertical-align: top;\n",
       "    }\n",
       "\n",
       "    .dataframe thead th {\n",
       "        text-align: right;\n",
       "    }\n",
       "</style>\n",
       "<table border=\"1\" class=\"dataframe\">\n",
       "  <thead>\n",
       "    <tr style=\"text-align: right;\">\n",
       "      <th></th>\n",
       "      <th>Name</th>\n",
       "      <th>Height</th>\n",
       "      <th>Weight</th>\n",
       "    </tr>\n",
       "    <tr>\n",
       "      <th>ID</th>\n",
       "      <th></th>\n",
       "      <th></th>\n",
       "      <th></th>\n",
       "    </tr>\n",
       "  </thead>\n",
       "  <tbody>\n",
       "    <tr>\n",
       "      <th>158023</th>\n",
       "      <td>L. Messi</td>\n",
       "      <td>5'7</td>\n",
       "      <td>159lbs</td>\n",
       "    </tr>\n",
       "    <tr>\n",
       "      <th>20801</th>\n",
       "      <td>Cristiano Ronaldo</td>\n",
       "      <td>6'2</td>\n",
       "      <td>183lbs</td>\n",
       "    </tr>\n",
       "    <tr>\n",
       "      <th>190871</th>\n",
       "      <td>Neymar Jr</td>\n",
       "      <td>5'9</td>\n",
       "      <td>150lbs</td>\n",
       "    </tr>\n",
       "    <tr>\n",
       "      <th>193080</th>\n",
       "      <td>De Gea</td>\n",
       "      <td>6'4</td>\n",
       "      <td>168lbs</td>\n",
       "    </tr>\n",
       "    <tr>\n",
       "      <th>192985</th>\n",
       "      <td>K. De Bruyne</td>\n",
       "      <td>5'11</td>\n",
       "      <td>154lbs</td>\n",
       "    </tr>\n",
       "    <tr>\n",
       "      <th>...</th>\n",
       "      <td>...</td>\n",
       "      <td>...</td>\n",
       "      <td>...</td>\n",
       "    </tr>\n",
       "    <tr>\n",
       "      <th>241051</th>\n",
       "      <td>A. Canbaz</td>\n",
       "      <td>6'0</td>\n",
       "      <td>161lbs</td>\n",
       "    </tr>\n",
       "    <tr>\n",
       "      <th>246427</th>\n",
       "      <td>M. Berden</td>\n",
       "      <td>5'9</td>\n",
       "      <td>150lbs</td>\n",
       "    </tr>\n",
       "    <tr>\n",
       "      <th>230812</th>\n",
       "      <td>A. Pattison</td>\n",
       "      <td>5'9</td>\n",
       "      <td>154lbs</td>\n",
       "    </tr>\n",
       "    <tr>\n",
       "      <th>227997</th>\n",
       "      <td>O. Zanzala</td>\n",
       "      <td>6'1</td>\n",
       "      <td>159lbs</td>\n",
       "    </tr>\n",
       "    <tr>\n",
       "      <th>236445</th>\n",
       "      <td>J. Kabongo</td>\n",
       "      <td>6'4</td>\n",
       "      <td>187lbs</td>\n",
       "    </tr>\n",
       "  </tbody>\n",
       "</table>\n",
       "<p>15000 rows × 3 columns</p>\n",
       "</div>"
      ],
      "text/plain": [
       "                     Name Height  Weight\n",
       "ID                                      \n",
       "158023           L. Messi    5'7  159lbs\n",
       "20801   Cristiano Ronaldo    6'2  183lbs\n",
       "190871          Neymar Jr    5'9  150lbs\n",
       "193080             De Gea    6'4  168lbs\n",
       "192985       K. De Bruyne   5'11  154lbs\n",
       "...                   ...    ...     ...\n",
       "241051          A. Canbaz    6'0  161lbs\n",
       "246427          M. Berden    5'9  150lbs\n",
       "230812        A. Pattison    5'9  154lbs\n",
       "227997         O. Zanzala    6'1  159lbs\n",
       "236445         J. Kabongo    6'4  187lbs\n",
       "\n",
       "[15000 rows x 3 columns]"
      ]
     },
     "execution_count": 6,
     "metadata": {},
     "output_type": "execute_result"
    }
   ],
   "source": [
    "keep = 15000\n",
    "df = df_all.iloc[:keep].copy()\n",
    "df"
   ]
  },
  {
   "cell_type": "markdown",
   "metadata": {},
   "source": [
    "### Préprocessamento dos dados"
   ]
  },
  {
   "cell_type": "markdown",
   "metadata": {},
   "source": [
    "#### Conversões\n",
    "Vamos converter a altura para centímetros e o peso para kilogramas"
   ]
  },
  {
   "cell_type": "markdown",
   "metadata": {},
   "source": [
    "##### Altura"
   ]
  },
  {
   "cell_type": "code",
   "execution_count": 7,
   "metadata": {},
   "outputs": [],
   "source": [
    "def feet_to_cm(h_feet_inches):\n",
    "    feet, inches = h_feet_inches.split('\\'')\n",
    "    total_inches = int(inches) + int(feet) * 12\n",
    "    total_cm = round(total_inches * 2.54, 1)\n",
    "    return total_cm"
   ]
  },
  {
   "cell_type": "code",
   "execution_count": 8,
   "metadata": {},
   "outputs": [
    {
     "data": {
      "text/plain": [
       "array([170.2, 188. , 175.3, 193. , 180.3, 172.7, 182.9, 167.6, 177.8,\n",
       "       198.1, 185.4, 162.6, 190.5, 165.1, 195.6, 200.7, 160. , 157.5,\n",
       "       203.2, 154.9, 205.7])"
      ]
     },
     "execution_count": 8,
     "metadata": {},
     "output_type": "execute_result"
    }
   ],
   "source": [
    "df['Height'] = df['Height'].apply(feet_to_cm)\n",
    "df['Height'].unique()"
   ]
  },
  {
   "cell_type": "markdown",
   "metadata": {},
   "source": [
    "##### Peso"
   ]
  },
  {
   "cell_type": "code",
   "execution_count": 9,
   "metadata": {},
   "outputs": [],
   "source": [
    "def lbs_to_kg(w_lbs):\n",
    "    lbs = int(w_lbs[:w_lbs.index('lbs')])\n",
    "    kg = round(lbs / 2.205, 2)\n",
    "    return kg"
   ]
  },
  {
   "cell_type": "code",
   "execution_count": 10,
   "metadata": {},
   "outputs": [
    {
     "data": {
      "text/plain": [
       "array([ 72.11,  82.99,  68.03,  76.19,  69.84,  73.92,  66.21,  86.17,\n",
       "        82.09,  87.07,  79.82,  78.  ,  67.12,  74.83,  88.89,  73.02,\n",
       "        84.81,  96.15,  77.1 ,  92.06,  71.2 ,  83.9 ,  58.96,  78.91,\n",
       "        93.88,  60.77,  63.95,  68.93,  81.18,  59.86,  91.16,  89.8 ,\n",
       "        94.78,  97.05,  64.85,  92.97,  62.13,  87.98,  97.96,  63.04,\n",
       "        99.77,  57.14,  98.87,  55.78, 102.95,  58.05, 101.13, 102.04,\n",
       "        54.88,  52.15,  53.06, 107.03, 103.85, 110.2 ,  49.89,  53.97])"
      ]
     },
     "execution_count": 10,
     "metadata": {},
     "output_type": "execute_result"
    }
   ],
   "source": [
    "df['Weight'] = df['Weight'].apply(lbs_to_kg)\n",
    "df['Weight'].unique()"
   ]
  },
  {
   "cell_type": "code",
   "execution_count": 11,
   "metadata": {},
   "outputs": [
    {
     "data": {
      "text/html": [
       "<div>\n",
       "<style scoped>\n",
       "    .dataframe tbody tr th:only-of-type {\n",
       "        vertical-align: middle;\n",
       "    }\n",
       "\n",
       "    .dataframe tbody tr th {\n",
       "        vertical-align: top;\n",
       "    }\n",
       "\n",
       "    .dataframe thead th {\n",
       "        text-align: right;\n",
       "    }\n",
       "</style>\n",
       "<table border=\"1\" class=\"dataframe\">\n",
       "  <thead>\n",
       "    <tr style=\"text-align: right;\">\n",
       "      <th></th>\n",
       "      <th>Name</th>\n",
       "      <th>Height</th>\n",
       "      <th>Weight</th>\n",
       "    </tr>\n",
       "    <tr>\n",
       "      <th>ID</th>\n",
       "      <th></th>\n",
       "      <th></th>\n",
       "      <th></th>\n",
       "    </tr>\n",
       "  </thead>\n",
       "  <tbody>\n",
       "    <tr>\n",
       "      <th>158023</th>\n",
       "      <td>L. Messi</td>\n",
       "      <td>170.2</td>\n",
       "      <td>72.11</td>\n",
       "    </tr>\n",
       "    <tr>\n",
       "      <th>20801</th>\n",
       "      <td>Cristiano Ronaldo</td>\n",
       "      <td>188.0</td>\n",
       "      <td>82.99</td>\n",
       "    </tr>\n",
       "    <tr>\n",
       "      <th>190871</th>\n",
       "      <td>Neymar Jr</td>\n",
       "      <td>175.3</td>\n",
       "      <td>68.03</td>\n",
       "    </tr>\n",
       "    <tr>\n",
       "      <th>193080</th>\n",
       "      <td>De Gea</td>\n",
       "      <td>193.0</td>\n",
       "      <td>76.19</td>\n",
       "    </tr>\n",
       "    <tr>\n",
       "      <th>192985</th>\n",
       "      <td>K. De Bruyne</td>\n",
       "      <td>180.3</td>\n",
       "      <td>69.84</td>\n",
       "    </tr>\n",
       "  </tbody>\n",
       "</table>\n",
       "</div>"
      ],
      "text/plain": [
       "                     Name  Height  Weight\n",
       "ID                                       \n",
       "158023           L. Messi   170.2   72.11\n",
       "20801   Cristiano Ronaldo   188.0   82.99\n",
       "190871          Neymar Jr   175.3   68.03\n",
       "193080             De Gea   193.0   76.19\n",
       "192985       K. De Bruyne   180.3   69.84"
      ]
     },
     "execution_count": 11,
     "metadata": {},
     "output_type": "execute_result"
    }
   ],
   "source": [
    "df.head()"
   ]
  },
  {
   "cell_type": "markdown",
   "metadata": {},
   "source": [
    "#### Normalizações"
   ]
  },
  {
   "cell_type": "code",
   "execution_count": 12,
   "metadata": {},
   "outputs": [
    {
     "data": {
      "text/html": [
       "<div>\n",
       "<style scoped>\n",
       "    .dataframe tbody tr th:only-of-type {\n",
       "        vertical-align: middle;\n",
       "    }\n",
       "\n",
       "    .dataframe tbody tr th {\n",
       "        vertical-align: top;\n",
       "    }\n",
       "\n",
       "    .dataframe thead th {\n",
       "        text-align: right;\n",
       "    }\n",
       "</style>\n",
       "<table border=\"1\" class=\"dataframe\">\n",
       "  <thead>\n",
       "    <tr style=\"text-align: right;\">\n",
       "      <th></th>\n",
       "      <th>Name</th>\n",
       "      <th>Height</th>\n",
       "      <th>Weight</th>\n",
       "      <th>Height_Norm</th>\n",
       "      <th>Weight_Norm</th>\n",
       "    </tr>\n",
       "    <tr>\n",
       "      <th>ID</th>\n",
       "      <th></th>\n",
       "      <th></th>\n",
       "      <th></th>\n",
       "      <th></th>\n",
       "      <th></th>\n",
       "    </tr>\n",
       "  </thead>\n",
       "  <tbody>\n",
       "    <tr>\n",
       "      <th>158023</th>\n",
       "      <td>L. Messi</td>\n",
       "      <td>170.2</td>\n",
       "      <td>72.11</td>\n",
       "      <td>-1.659710</td>\n",
       "      <td>-0.506531</td>\n",
       "    </tr>\n",
       "    <tr>\n",
       "      <th>20801</th>\n",
       "      <td>Cristiano Ronaldo</td>\n",
       "      <td>188.0</td>\n",
       "      <td>82.99</td>\n",
       "      <td>0.988706</td>\n",
       "      <td>1.038073</td>\n",
       "    </tr>\n",
       "    <tr>\n",
       "      <th>190871</th>\n",
       "      <td>Neymar Jr</td>\n",
       "      <td>175.3</td>\n",
       "      <td>68.03</td>\n",
       "      <td>-0.900894</td>\n",
       "      <td>-1.085757</td>\n",
       "    </tr>\n",
       "    <tr>\n",
       "      <th>193080</th>\n",
       "      <td>De Gea</td>\n",
       "      <td>193.0</td>\n",
       "      <td>76.19</td>\n",
       "      <td>1.732643</td>\n",
       "      <td>0.072695</td>\n",
       "    </tr>\n",
       "    <tr>\n",
       "      <th>192985</th>\n",
       "      <td>K. De Bruyne</td>\n",
       "      <td>180.3</td>\n",
       "      <td>69.84</td>\n",
       "      <td>-0.156957</td>\n",
       "      <td>-0.828797</td>\n",
       "    </tr>\n",
       "  </tbody>\n",
       "</table>\n",
       "</div>"
      ],
      "text/plain": [
       "                     Name  Height  Weight  Height_Norm  Weight_Norm\n",
       "ID                                                                 \n",
       "158023           L. Messi   170.2   72.11    -1.659710    -0.506531\n",
       "20801   Cristiano Ronaldo   188.0   82.99     0.988706     1.038073\n",
       "190871          Neymar Jr   175.3   68.03    -0.900894    -1.085757\n",
       "193080             De Gea   193.0   76.19     1.732643     0.072695\n",
       "192985       K. De Bruyne   180.3   69.84    -0.156957    -0.828797"
      ]
     },
     "execution_count": 12,
     "metadata": {},
     "output_type": "execute_result"
    }
   ],
   "source": [
    "columns_to_normalize = ['Height', 'Weight']\n",
    "\n",
    "for column in columns_to_normalize:\n",
    "    df[column + '_Norm'] = (df[column] - df[column].mean()) / df[column].std()\n",
    "    \n",
    "df.head()"
   ]
  },
  {
   "cell_type": "markdown",
   "metadata": {},
   "source": [
    "### Plotar base de dados"
   ]
  },
  {
   "cell_type": "code",
   "execution_count": 13,
   "metadata": {},
   "outputs": [
    {
     "data": {
      "image/png": "[encoded data removed]",
      "text/plain": [
       "<Figure size 1008x576 with 1 Axes>"
      ]
     },
     "metadata": {},
     "output_type": "display_data"
    }
   ],
   "source": [
    "_ = sns.scatterplot(x='Height', y='Weight', data=df, legend=False)"
   ]
  },
  {
   "cell_type": "markdown",
   "metadata": {},
   "source": [
    "### Aplicando DBSCAN e explorando resultados"
   ]
  },
  {
   "cell_type": "code",
   "execution_count": 14,
   "metadata": {},
   "outputs": [],
   "source": [
    "def do_clustering(data, eps=0.5, min_samples=5):\n",
    "    # Copiamos os dados e removemos a coluna do nome do jogador\n",
    "    data_copy = data.copy()\n",
    "    data_copy.drop(columns=['Name', 'Height', 'Weight'], inplace=True)\n",
    "    \n",
    "    model = DBSCAN(eps=eps, min_samples=min_samples)\n",
    "    model.fit(data_copy)\n",
    "    \n",
    "    data_copy['cluster_labels'] = model.labels_\n",
    "    data_copy['player_name'] = data['Name']\n",
    "    data_copy['height'] = data['Height']\n",
    "    data_copy['weight'] = data['Weight']\n",
    "    \n",
    "    return data_copy"
   ]
  },
  {
   "cell_type": "code",
   "execution_count": 15,
   "metadata": {},
   "outputs": [],
   "source": [
    "def print_clusters(data, clusters, max_players=10):\n",
    "    for c in clusters:\n",
    "        print('Cluster: ', c)\n",
    "        print(list(data[data['cluster_labels'] == c]['player_name'][:max_players]))\n",
    "        print()\n",
    "        print()"
   ]
  },
  {
   "cell_type": "code",
   "execution_count": 16,
   "metadata": {},
   "outputs": [
    {
     "data": {
      "text/html": [
       "<div>\n",
       "<style scoped>\n",
       "    .dataframe tbody tr th:only-of-type {\n",
       "        vertical-align: middle;\n",
       "    }\n",
       "\n",
       "    .dataframe tbody tr th {\n",
       "        vertical-align: top;\n",
       "    }\n",
       "\n",
       "    .dataframe thead th {\n",
       "        text-align: right;\n",
       "    }\n",
       "</style>\n",
       "<table border=\"1\" class=\"dataframe\">\n",
       "  <thead>\n",
       "    <tr style=\"text-align: right;\">\n",
       "      <th></th>\n",
       "      <th>Height_Norm</th>\n",
       "      <th>Weight_Norm</th>\n",
       "      <th>cluster_labels</th>\n",
       "      <th>player_name</th>\n",
       "      <th>height</th>\n",
       "      <th>weight</th>\n",
       "    </tr>\n",
       "    <tr>\n",
       "      <th>ID</th>\n",
       "      <th></th>\n",
       "      <th></th>\n",
       "      <th></th>\n",
       "      <th></th>\n",
       "      <th></th>\n",
       "      <th></th>\n",
       "    </tr>\n",
       "  </thead>\n",
       "  <tbody>\n",
       "    <tr>\n",
       "      <th>158023</th>\n",
       "      <td>-1.659710</td>\n",
       "      <td>-0.506531</td>\n",
       "      <td>0</td>\n",
       "      <td>L. Messi</td>\n",
       "      <td>170.2</td>\n",
       "      <td>72.11</td>\n",
       "    </tr>\n",
       "    <tr>\n",
       "      <th>20801</th>\n",
       "      <td>0.988706</td>\n",
       "      <td>1.038073</td>\n",
       "      <td>0</td>\n",
       "      <td>Cristiano Ronaldo</td>\n",
       "      <td>188.0</td>\n",
       "      <td>82.99</td>\n",
       "    </tr>\n",
       "    <tr>\n",
       "      <th>190871</th>\n",
       "      <td>-0.900894</td>\n",
       "      <td>-1.085757</td>\n",
       "      <td>0</td>\n",
       "      <td>Neymar Jr</td>\n",
       "      <td>175.3</td>\n",
       "      <td>68.03</td>\n",
       "    </tr>\n",
       "    <tr>\n",
       "      <th>193080</th>\n",
       "      <td>1.732643</td>\n",
       "      <td>0.072695</td>\n",
       "      <td>0</td>\n",
       "      <td>De Gea</td>\n",
       "      <td>193.0</td>\n",
       "      <td>76.19</td>\n",
       "    </tr>\n",
       "    <tr>\n",
       "      <th>192985</th>\n",
       "      <td>-0.156957</td>\n",
       "      <td>-0.828797</td>\n",
       "      <td>0</td>\n",
       "      <td>K. De Bruyne</td>\n",
       "      <td>180.3</td>\n",
       "      <td>69.84</td>\n",
       "    </tr>\n",
       "  </tbody>\n",
       "</table>\n",
       "</div>"
      ],
      "text/plain": [
       "        Height_Norm  Weight_Norm  cluster_labels        player_name  height  \\\n",
       "ID                                                                            \n",
       "158023    -1.659710    -0.506531               0           L. Messi   170.2   \n",
       "20801      0.988706     1.038073               0  Cristiano Ronaldo   188.0   \n",
       "190871    -0.900894    -1.085757               0          Neymar Jr   175.3   \n",
       "193080     1.732643     0.072695               0             De Gea   193.0   \n",
       "192985    -0.156957    -0.828797               0       K. De Bruyne   180.3   \n",
       "\n",
       "        weight  \n",
       "ID              \n",
       "158023   72.11  \n",
       "20801    82.99  \n",
       "190871   68.03  \n",
       "193080   76.19  \n",
       "192985   69.84  "
      ]
     },
     "execution_count": 16,
     "metadata": {},
     "output_type": "execute_result"
    }
   ],
   "source": [
    "eps = 0.4\n",
    "min_samples = 5\n",
    "\n",
    "df_copy = do_clustering(df, eps=eps, min_samples=min_samples)\n",
    "df_copy.head()"
   ]
  },
  {
   "cell_type": "code",
   "execution_count": 17,
   "metadata": {},
   "outputs": [
    {
     "data": {
      "text/plain": [
       " 0    14975\n",
       "-1       25\n",
       "Name: cluster_labels, dtype: int64"
      ]
     },
     "execution_count": 17,
     "metadata": {},
     "output_type": "execute_result"
    }
   ],
   "source": [
    "df_copy['cluster_labels'].value_counts()"
   ]
  },
  {
   "cell_type": "code",
   "execution_count": 18,
   "metadata": {},
   "outputs": [
    {
     "data": {
      "image/png": "[encoded data removed]",
      "text/plain": [
       "<Figure size 1008x576 with 1 Axes>"
      ]
     },
     "metadata": {},
     "output_type": "display_data"
    }
   ],
   "source": [
    "_ = sns.scatterplot(x='height', y='weight', data=df_copy, hue='cluster_labels', palette='rainbow')"
   ]
  },
  {
   "cell_type": "markdown",
   "metadata": {},
   "source": [
    "### Avaliando jogadores pela altura"
   ]
  },
  {
   "cell_type": "code",
   "execution_count": 19,
   "metadata": {},
   "outputs": [
    {
     "data": {
      "text/html": [
       "<div>\n",
       "<style scoped>\n",
       "    .dataframe tbody tr th:only-of-type {\n",
       "        vertical-align: middle;\n",
       "    }\n",
       "\n",
       "    .dataframe tbody tr th {\n",
       "        vertical-align: top;\n",
       "    }\n",
       "\n",
       "    .dataframe thead th {\n",
       "        text-align: right;\n",
       "    }\n",
       "</style>\n",
       "<table border=\"1\" class=\"dataframe\">\n",
       "  <thead>\n",
       "    <tr style=\"text-align: right;\">\n",
       "      <th></th>\n",
       "      <th>player_name</th>\n",
       "      <th>height</th>\n",
       "    </tr>\n",
       "    <tr>\n",
       "      <th>ID</th>\n",
       "      <th></th>\n",
       "      <th></th>\n",
       "    </tr>\n",
       "  </thead>\n",
       "  <tbody>\n",
       "    <tr>\n",
       "      <th>199321</th>\n",
       "      <td>T. Holý</td>\n",
       "      <td>205.7</td>\n",
       "    </tr>\n",
       "    <tr>\n",
       "      <th>51257</th>\n",
       "      <td>P. Crouch</td>\n",
       "      <td>200.7</td>\n",
       "    </tr>\n",
       "    <tr>\n",
       "      <th>244793</th>\n",
       "      <td>T. Chorý</td>\n",
       "      <td>200.7</td>\n",
       "    </tr>\n",
       "    <tr>\n",
       "      <th>203841</th>\n",
       "      <td>N. Pope</td>\n",
       "      <td>200.7</td>\n",
       "    </tr>\n",
       "    <tr>\n",
       "      <th>199833</th>\n",
       "      <td>L. Unnerstall</td>\n",
       "      <td>198.1</td>\n",
       "    </tr>\n",
       "  </tbody>\n",
       "</table>\n",
       "</div>"
      ],
      "text/plain": [
       "          player_name  height\n",
       "ID                           \n",
       "199321        T. Holý   205.7\n",
       "51257       P. Crouch   200.7\n",
       "244793       T. Chorý   200.7\n",
       "203841        N. Pope   200.7\n",
       "199833  L. Unnerstall   198.1"
      ]
     },
     "execution_count": 19,
     "metadata": {},
     "output_type": "execute_result"
    }
   ],
   "source": [
    "df_height = df_copy.loc[df_copy['cluster_labels'] == -1][['player_name', 'height']].sort_values(by='height', ascending=False)\n",
    "df_height.head()"
   ]
  },
  {
   "cell_type": "code",
   "execution_count": 20,
   "metadata": {},
   "outputs": [
    {
     "data": {
      "text/html": [
       "<div>\n",
       "<style scoped>\n",
       "    .dataframe tbody tr th:only-of-type {\n",
       "        vertical-align: middle;\n",
       "    }\n",
       "\n",
       "    .dataframe tbody tr th {\n",
       "        vertical-align: top;\n",
       "    }\n",
       "\n",
       "    .dataframe thead th {\n",
       "        text-align: right;\n",
       "    }\n",
       "</style>\n",
       "<table border=\"1\" class=\"dataframe\">\n",
       "  <thead>\n",
       "    <tr style=\"text-align: right;\">\n",
       "      <th></th>\n",
       "      <th>player_name</th>\n",
       "      <th>height</th>\n",
       "    </tr>\n",
       "    <tr>\n",
       "      <th>ID</th>\n",
       "      <th></th>\n",
       "      <th></th>\n",
       "    </tr>\n",
       "  </thead>\n",
       "  <tbody>\n",
       "    <tr>\n",
       "      <th>232278</th>\n",
       "      <td>S. Mosquera</td>\n",
       "      <td>167.6</td>\n",
       "    </tr>\n",
       "    <tr>\n",
       "      <th>214327</th>\n",
       "      <td>V. Hernández</td>\n",
       "      <td>160.0</td>\n",
       "    </tr>\n",
       "    <tr>\n",
       "      <th>228404</th>\n",
       "      <td>C. Techera</td>\n",
       "      <td>157.5</td>\n",
       "    </tr>\n",
       "    <tr>\n",
       "      <th>232951</th>\n",
       "      <td>H. Nakagawa</td>\n",
       "      <td>154.9</td>\n",
       "    </tr>\n",
       "    <tr>\n",
       "      <th>237994</th>\n",
       "      <td>N. Barrios</td>\n",
       "      <td>154.9</td>\n",
       "    </tr>\n",
       "  </tbody>\n",
       "</table>\n",
       "</div>"
      ],
      "text/plain": [
       "         player_name  height\n",
       "ID                          \n",
       "232278   S. Mosquera   167.6\n",
       "214327  V. Hernández   160.0\n",
       "228404    C. Techera   157.5\n",
       "232951   H. Nakagawa   154.9\n",
       "237994    N. Barrios   154.9"
      ]
     },
     "execution_count": 20,
     "metadata": {},
     "output_type": "execute_result"
    }
   ],
   "source": [
    "df_height.tail()"
   ]
  },
  {
   "cell_type": "markdown",
   "metadata": {},
   "source": [
    "### Avaliando jogadores pelo peso"
   ]
  },
  {
   "cell_type": "code",
   "execution_count": 21,
   "metadata": {},
   "outputs": [
    {
     "data": {
      "text/html": [
       "<div>\n",
       "<style scoped>\n",
       "    .dataframe tbody tr th:only-of-type {\n",
       "        vertical-align: middle;\n",
       "    }\n",
       "\n",
       "    .dataframe tbody tr th {\n",
       "        vertical-align: top;\n",
       "    }\n",
       "\n",
       "    .dataframe thead th {\n",
       "        text-align: right;\n",
       "    }\n",
       "</style>\n",
       "<table border=\"1\" class=\"dataframe\">\n",
       "  <thead>\n",
       "    <tr style=\"text-align: right;\">\n",
       "      <th></th>\n",
       "      <th>player_name</th>\n",
       "      <th>weight</th>\n",
       "    </tr>\n",
       "    <tr>\n",
       "      <th>ID</th>\n",
       "      <th></th>\n",
       "      <th></th>\n",
       "    </tr>\n",
       "  </thead>\n",
       "  <tbody>\n",
       "    <tr>\n",
       "      <th>156321</th>\n",
       "      <td>A. Akinfenwa</td>\n",
       "      <td>110.20</td>\n",
       "    </tr>\n",
       "    <tr>\n",
       "      <th>239746</th>\n",
       "      <td>L. Watkowiak</td>\n",
       "      <td>107.03</td>\n",
       "    </tr>\n",
       "    <tr>\n",
       "      <th>179685</th>\n",
       "      <td>C. Seitz</td>\n",
       "      <td>107.03</td>\n",
       "    </tr>\n",
       "    <tr>\n",
       "      <th>195357</th>\n",
       "      <td>F. Farnolle</td>\n",
       "      <td>103.85</td>\n",
       "    </tr>\n",
       "    <tr>\n",
       "      <th>199833</th>\n",
       "      <td>L. Unnerstall</td>\n",
       "      <td>102.95</td>\n",
       "    </tr>\n",
       "  </tbody>\n",
       "</table>\n",
       "</div>"
      ],
      "text/plain": [
       "          player_name  weight\n",
       "ID                           \n",
       "156321   A. Akinfenwa  110.20\n",
       "239746   L. Watkowiak  107.03\n",
       "179685       C. Seitz  107.03\n",
       "195357    F. Farnolle  103.85\n",
       "199833  L. Unnerstall  102.95"
      ]
     },
     "execution_count": 21,
     "metadata": {},
     "output_type": "execute_result"
    }
   ],
   "source": [
    "df_weight = df_copy.loc[df_copy['cluster_labels'] == -1][['player_name', 'weight']].sort_values(by='weight', ascending=False)\n",
    "df_weight.head()"
   ]
  },
  {
   "cell_type": "code",
   "execution_count": 22,
   "metadata": {},
   "outputs": [
    {
     "data": {
      "text/html": [
       "<div>\n",
       "<style scoped>\n",
       "    .dataframe tbody tr th:only-of-type {\n",
       "        vertical-align: middle;\n",
       "    }\n",
       "\n",
       "    .dataframe tbody tr th {\n",
       "        vertical-align: top;\n",
       "    }\n",
       "\n",
       "    .dataframe thead th {\n",
       "        text-align: right;\n",
       "    }\n",
       "</style>\n",
       "<table border=\"1\" class=\"dataframe\">\n",
       "  <thead>\n",
       "    <tr style=\"text-align: right;\">\n",
       "      <th></th>\n",
       "      <th>player_name</th>\n",
       "      <th>weight</th>\n",
       "    </tr>\n",
       "    <tr>\n",
       "      <th>ID</th>\n",
       "      <th></th>\n",
       "      <th></th>\n",
       "    </tr>\n",
       "  </thead>\n",
       "  <tbody>\n",
       "    <tr>\n",
       "      <th>234049</th>\n",
       "      <td>B. Niasse</td>\n",
       "      <td>64.85</td>\n",
       "    </tr>\n",
       "    <tr>\n",
       "      <th>220023</th>\n",
       "      <td>A. Al Shammari</td>\n",
       "      <td>59.86</td>\n",
       "    </tr>\n",
       "    <tr>\n",
       "      <th>237994</th>\n",
       "      <td>N. Barrios</td>\n",
       "      <td>58.05</td>\n",
       "    </tr>\n",
       "    <tr>\n",
       "      <th>232951</th>\n",
       "      <td>H. Nakagawa</td>\n",
       "      <td>57.14</td>\n",
       "    </tr>\n",
       "    <tr>\n",
       "      <th>235600</th>\n",
       "      <td>B. Al Mutairi</td>\n",
       "      <td>49.89</td>\n",
       "    </tr>\n",
       "  </tbody>\n",
       "</table>\n",
       "</div>"
      ],
      "text/plain": [
       "           player_name  weight\n",
       "ID                            \n",
       "234049       B. Niasse   64.85\n",
       "220023  A. Al Shammari   59.86\n",
       "237994      N. Barrios   58.05\n",
       "232951     H. Nakagawa   57.14\n",
       "235600   B. Al Mutairi   49.89"
      ]
     },
     "execution_count": 22,
     "metadata": {},
     "output_type": "execute_result"
    }
   ],
   "source": [
    "df_weight.tail()"
   ]
  },
  {
   "cell_type": "markdown",
   "metadata": {},
   "source": [
    "## Entendendo o que o algoritmo considera outliers\n",
    "Podemos treinar uma árvore de decisão para fazer a predição entre outlier e normal."
   ]
  },
  {
   "cell_type": "markdown",
   "metadata": {},
   "source": [
    "### Graphviz\n",
    "\n",
    "* Vamos usar o graphviz (biblioteca open source para visualização de grafos).\n",
    "* Para ele funcionar corretamente, você deve instalar ele de acordo e adicionar no `path` do seu usuário.\n",
    "* Instruções oficiais aqui: https://graphviz.org/download/"
   ]
  },
  {
   "cell_type": "code",
   "execution_count": 23,
   "metadata": {},
   "outputs": [],
   "source": [
    "import graphviz"
   ]
  },
  {
   "cell_type": "code",
   "execution_count": 24,
   "metadata": {},
   "outputs": [],
   "source": [
    "from sklearn.tree import plot_tree\n",
    "from sklearn.tree import export_graphviz\n",
    "from sklearn.tree import DecisionTreeClassifier"
   ]
  },
  {
   "cell_type": "markdown",
   "metadata": {},
   "source": [
    "### Treinando a árvore de decisão"
   ]
  },
  {
   "cell_type": "code",
   "execution_count": 25,
   "metadata": {},
   "outputs": [
    {
     "data": {
      "text/plain": [
       "DecisionTreeClassifier(ccp_alpha=0.0, class_weight=None, criterion='gini',\n",
       "                       max_depth=None, max_features=None, max_leaf_nodes=4,\n",
       "                       min_impurity_decrease=0.0, min_impurity_split=None,\n",
       "                       min_samples_leaf=1, min_samples_split=2,\n",
       "                       min_weight_fraction_leaf=0.0, presort='deprecated',\n",
       "                       random_state=None, splitter='best')"
      ]
     },
     "execution_count": 25,
     "metadata": {},
     "output_type": "execute_result"
    }
   ],
   "source": [
    "clf = DecisionTreeClassifier(max_leaf_nodes=4)\n",
    "clf.fit(df_copy[['height', 'weight']], df_copy['cluster_labels'])"
   ]
  },
  {
   "cell_type": "markdown",
   "metadata": {},
   "source": [
    "### Gerando gráfico"
   ]
  },
  {
   "cell_type": "code",
   "execution_count": 26,
   "metadata": {},
   "outputs": [],
   "source": [
    "dot_data = export_graphviz(clf, out_file=None, \n",
    "                           feature_names=['height', 'weight'],  \n",
    "                           class_names=['Outlier', 'Normal'],\n",
    "                           filled=True)"
   ]
  },
  {
   "cell_type": "markdown",
   "metadata": {},
   "source": [
    "#### Plotando a árvore"
   ]
  },
  {
   "cell_type": "code",
   "execution_count": 27,
   "metadata": {},
   "outputs": [
    {
     "data": {
      "image/svg+xml": [
       "<?xml version=\"1.0\" encoding=\"UTF-8\" standalone=\"no\"?>\r\n",
       "<!DOCTYPE svg PUBLIC \"-//W3C//DTD SVG 1.1//EN\"\r\n",
       " \"http://www.w3.org/Graphics/SVG/1.1/DTD/svg11.dtd\">\r\n",
       "<!-- Generated by graphviz version 2.44.1 (20200629.0800)\r\n",
       " -->\r\n",
       "<!-- Title: Tree Pages: 1 -->\r\n",
       "<svg width=\"315pt\" height=\"433pt\"\r\n",
       " viewBox=\"0.00 0.00 314.50 433.00\" xmlns=\"http://www.w3.org/2000/svg\" xmlns:xlink=\"http://www.w3.org/1999/xlink\">\r\n",
       "<g id=\"graph0\" class=\"graph\" transform=\"scale(1 1) rotate(0) translate(4 429)\">\r\n",
       "<title>Tree</title>\r\n",
       "<polygon fill=\"white\" stroke=\"transparent\" points=\"-4,4 -4,-429 310.5,-429 310.5,4 -4,4\"/>\r\n",
       "<!-- 0 -->\r\n",
       "<g id=\"node1\" class=\"node\">\r\n",
       "<title>0</title>\r\n",
       "<polygon fill=\"#399de5\" stroke=\"black\" points=\"241.5,-425 116.5,-425 116.5,-342 241.5,-342 241.5,-425\"/>\r\n",
       "<text text-anchor=\"middle\" x=\"179\" y=\"-409.8\" font-family=\"Times New Roman,serif\" font-size=\"14.00\">weight &lt;= 100.45</text>\r\n",
       "<text text-anchor=\"middle\" x=\"179\" y=\"-394.8\" font-family=\"Times New Roman,serif\" font-size=\"14.00\">gini = 0.003</text>\r\n",
       "<text text-anchor=\"middle\" x=\"179\" y=\"-379.8\" font-family=\"Times New Roman,serif\" font-size=\"14.00\">samples = 15000</text>\r\n",
       "<text text-anchor=\"middle\" x=\"179\" y=\"-364.8\" font-family=\"Times New Roman,serif\" font-size=\"14.00\">value = [25, 14975]</text>\r\n",
       "<text text-anchor=\"middle\" x=\"179\" y=\"-349.8\" font-family=\"Times New Roman,serif\" font-size=\"14.00\">class = Normal</text>\r\n",
       "</g>\r\n",
       "<!-- 1 -->\r\n",
       "<g id=\"node2\" class=\"node\">\r\n",
       "<title>1</title>\r\n",
       "<polygon fill=\"#399de5\" stroke=\"black\" points=\"176.5,-306 51.5,-306 51.5,-223 176.5,-223 176.5,-306\"/>\r\n",
       "<text text-anchor=\"middle\" x=\"114\" y=\"-290.8\" font-family=\"Times New Roman,serif\" font-size=\"14.00\">height &lt;= 156.2</text>\r\n",
       "<text text-anchor=\"middle\" x=\"114\" y=\"-275.8\" font-family=\"Times New Roman,serif\" font-size=\"14.00\">gini = 0.002</text>\r\n",
       "<text text-anchor=\"middle\" x=\"114\" y=\"-260.8\" font-family=\"Times New Roman,serif\" font-size=\"14.00\">samples = 14990</text>\r\n",
       "<text text-anchor=\"middle\" x=\"114\" y=\"-245.8\" font-family=\"Times New Roman,serif\" font-size=\"14.00\">value = [15, 14975]</text>\r\n",
       "<text text-anchor=\"middle\" x=\"114\" y=\"-230.8\" font-family=\"Times New Roman,serif\" font-size=\"14.00\">class = Normal</text>\r\n",
       "</g>\r\n",
       "<!-- 0&#45;&gt;1 -->\r\n",
       "<g id=\"edge1\" class=\"edge\">\r\n",
       "<title>0&#45;&gt;1</title>\r\n",
       "<path fill=\"none\" stroke=\"black\" d=\"M156.45,-341.91C151.61,-333.2 146.44,-323.9 141.44,-314.89\"/>\r\n",
       "<polygon fill=\"black\" stroke=\"black\" points=\"144.43,-313.06 136.51,-306.02 138.31,-316.46 144.43,-313.06\"/>\r\n",
       "<text text-anchor=\"middle\" x=\"129.64\" y=\"-326.36\" font-family=\"Times New Roman,serif\" font-size=\"14.00\">True</text>\r\n",
       "</g>\r\n",
       "<!-- 2 -->\r\n",
       "<g id=\"node7\" class=\"node\">\r\n",
       "<title>2</title>\r\n",
       "<polygon fill=\"#e58139\" stroke=\"black\" points=\"293,-298.5 195,-298.5 195,-230.5 293,-230.5 293,-298.5\"/>\r\n",
       "<text text-anchor=\"middle\" x=\"244\" y=\"-283.3\" font-family=\"Times New Roman,serif\" font-size=\"14.00\">gini = 0.0</text>\r\n",
       "<text text-anchor=\"middle\" x=\"244\" y=\"-268.3\" font-family=\"Times New Roman,serif\" font-size=\"14.00\">samples = 10</text>\r\n",
       "<text text-anchor=\"middle\" x=\"244\" y=\"-253.3\" font-family=\"Times New Roman,serif\" font-size=\"14.00\">value = [10, 0]</text>\r\n",
       "<text text-anchor=\"middle\" x=\"244\" y=\"-238.3\" font-family=\"Times New Roman,serif\" font-size=\"14.00\">class = Outlier</text>\r\n",
       "</g>\r\n",
       "<!-- 0&#45;&gt;2 -->\r\n",
       "<g id=\"edge6\" class=\"edge\">\r\n",
       "<title>0&#45;&gt;2</title>\r\n",
       "<path fill=\"none\" stroke=\"black\" d=\"M201.55,-341.91C207.74,-330.76 214.47,-318.66 220.7,-307.44\"/>\r\n",
       "<polygon fill=\"black\" stroke=\"black\" points=\"223.78,-309.11 225.57,-298.67 217.66,-305.71 223.78,-309.11\"/>\r\n",
       "<text text-anchor=\"middle\" x=\"232.44\" y=\"-319.01\" font-family=\"Times New Roman,serif\" font-size=\"14.00\">False</text>\r\n",
       "</g>\r\n",
       "<!-- 3 -->\r\n",
       "<g id=\"node3\" class=\"node\">\r\n",
       "<title>3</title>\r\n",
       "<polygon fill=\"#e58139\" stroke=\"black\" points=\"98,-179.5 0,-179.5 0,-111.5 98,-111.5 98,-179.5\"/>\r\n",
       "<text text-anchor=\"middle\" x=\"49\" y=\"-164.3\" font-family=\"Times New Roman,serif\" font-size=\"14.00\">gini = 0.0</text>\r\n",
       "<text text-anchor=\"middle\" x=\"49\" y=\"-149.3\" font-family=\"Times New Roman,serif\" font-size=\"14.00\">samples = 2</text>\r\n",
       "<text text-anchor=\"middle\" x=\"49\" y=\"-134.3\" font-family=\"Times New Roman,serif\" font-size=\"14.00\">value = [2, 0]</text>\r\n",
       "<text text-anchor=\"middle\" x=\"49\" y=\"-119.3\" font-family=\"Times New Roman,serif\" font-size=\"14.00\">class = Outlier</text>\r\n",
       "</g>\r\n",
       "<!-- 1&#45;&gt;3 -->\r\n",
       "<g id=\"edge2\" class=\"edge\">\r\n",
       "<title>1&#45;&gt;3</title>\r\n",
       "<path fill=\"none\" stroke=\"black\" d=\"M91.45,-222.91C85.26,-211.76 78.53,-199.66 72.3,-188.44\"/>\r\n",
       "<polygon fill=\"black\" stroke=\"black\" points=\"75.34,-186.71 67.43,-179.67 69.22,-190.11 75.34,-186.71\"/>\r\n",
       "</g>\r\n",
       "<!-- 4 -->\r\n",
       "<g id=\"node4\" class=\"node\">\r\n",
       "<title>4</title>\r\n",
       "<polygon fill=\"#399de5\" stroke=\"black\" points=\"241.5,-187 116.5,-187 116.5,-104 241.5,-104 241.5,-187\"/>\r\n",
       "<text text-anchor=\"middle\" x=\"179\" y=\"-171.8\" font-family=\"Times New Roman,serif\" font-size=\"14.00\">weight &lt;= 51.02</text>\r\n",
       "<text text-anchor=\"middle\" x=\"179\" y=\"-156.8\" font-family=\"Times New Roman,serif\" font-size=\"14.00\">gini = 0.002</text>\r\n",
       "<text text-anchor=\"middle\" x=\"179\" y=\"-141.8\" font-family=\"Times New Roman,serif\" font-size=\"14.00\">samples = 14988</text>\r\n",
       "<text text-anchor=\"middle\" x=\"179\" y=\"-126.8\" font-family=\"Times New Roman,serif\" font-size=\"14.00\">value = [13, 14975]</text>\r\n",
       "<text text-anchor=\"middle\" x=\"179\" y=\"-111.8\" font-family=\"Times New Roman,serif\" font-size=\"14.00\">class = Normal</text>\r\n",
       "</g>\r\n",
       "<!-- 1&#45;&gt;4 -->\r\n",
       "<g id=\"edge3\" class=\"edge\">\r\n",
       "<title>1&#45;&gt;4</title>\r\n",
       "<path fill=\"none\" stroke=\"black\" d=\"M136.55,-222.91C141.39,-214.2 146.56,-204.9 151.56,-195.89\"/>\r\n",
       "<polygon fill=\"black\" stroke=\"black\" points=\"154.69,-197.46 156.49,-187.02 148.57,-194.06 154.69,-197.46\"/>\r\n",
       "</g>\r\n",
       "<!-- 5 -->\r\n",
       "<g id=\"node5\" class=\"node\">\r\n",
       "<title>5</title>\r\n",
       "<polygon fill=\"#e58139\" stroke=\"black\" points=\"163,-68 65,-68 65,0 163,0 163,-68\"/>\r\n",
       "<text text-anchor=\"middle\" x=\"114\" y=\"-52.8\" font-family=\"Times New Roman,serif\" font-size=\"14.00\">gini = 0.0</text>\r\n",
       "<text text-anchor=\"middle\" x=\"114\" y=\"-37.8\" font-family=\"Times New Roman,serif\" font-size=\"14.00\">samples = 1</text>\r\n",
       "<text text-anchor=\"middle\" x=\"114\" y=\"-22.8\" font-family=\"Times New Roman,serif\" font-size=\"14.00\">value = [1, 0]</text>\r\n",
       "<text text-anchor=\"middle\" x=\"114\" y=\"-7.8\" font-family=\"Times New Roman,serif\" font-size=\"14.00\">class = Outlier</text>\r\n",
       "</g>\r\n",
       "<!-- 4&#45;&gt;5 -->\r\n",
       "<g id=\"edge4\" class=\"edge\">\r\n",
       "<title>4&#45;&gt;5</title>\r\n",
       "<path fill=\"none\" stroke=\"black\" d=\"M154.8,-103.73C149.6,-94.97 144.1,-85.7 138.88,-76.91\"/>\r\n",
       "<polygon fill=\"black\" stroke=\"black\" points=\"141.88,-75.11 133.77,-68.3 135.86,-78.69 141.88,-75.11\"/>\r\n",
       "</g>\r\n",
       "<!-- 6 -->\r\n",
       "<g id=\"node6\" class=\"node\">\r\n",
       "<title>6</title>\r\n",
       "<polygon fill=\"#399de5\" stroke=\"black\" points=\"306.5,-68 181.5,-68 181.5,0 306.5,0 306.5,-68\"/>\r\n",
       "<text text-anchor=\"middle\" x=\"244\" y=\"-52.8\" font-family=\"Times New Roman,serif\" font-size=\"14.00\">gini = 0.002</text>\r\n",
       "<text text-anchor=\"middle\" x=\"244\" y=\"-37.8\" font-family=\"Times New Roman,serif\" font-size=\"14.00\">samples = 14987</text>\r\n",
       "<text text-anchor=\"middle\" x=\"244\" y=\"-22.8\" font-family=\"Times New Roman,serif\" font-size=\"14.00\">value = [12, 14975]</text>\r\n",
       "<text text-anchor=\"middle\" x=\"244\" y=\"-7.8\" font-family=\"Times New Roman,serif\" font-size=\"14.00\">class = Normal</text>\r\n",
       "</g>\r\n",
       "<!-- 4&#45;&gt;6 -->\r\n",
       "<g id=\"edge5\" class=\"edge\">\r\n",
       "<title>4&#45;&gt;6</title>\r\n",
       "<path fill=\"none\" stroke=\"black\" d=\"M203.2,-103.73C208.4,-94.97 213.9,-85.7 219.12,-76.91\"/>\r\n",
       "<polygon fill=\"black\" stroke=\"black\" points=\"222.14,-78.69 224.23,-68.3 216.12,-75.11 222.14,-78.69\"/>\r\n",
       "</g>\r\n",
       "</g>\r\n",
       "</svg>\r\n"
      ],
      "text/plain": [
       "<graphviz.files.Source at 0x17c7fde7c48>"
      ]
     },
     "execution_count": 27,
     "metadata": {},
     "output_type": "execute_result"
    }
   ],
   "source": [
    "graph = graphviz.Source(dot_data, format=\"png\") \n",
    "graph"
   ]
  }
 ],
 "metadata": {
  "kernelspec": {
   "display_name": "Python 3",
   "language": "python",
   "name": "python3"
  },
  "language_info": {
   "codemirror_mode": {
    "name": "ipython",
    "version": 3
   },
   "file_extension": ".py",
   "mimetype": "text/x-python",
   "name": "python",
   "nbconvert_exporter": "python",
   "pygments_lexer": "ipython3",
   "version": "3.7.6"
  }
 },
 "nbformat": 4,
 "nbformat_minor": 2
}
